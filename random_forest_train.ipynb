{
 "cells": [
  {
   "cell_type": "code",
   "execution_count": 1,
   "metadata": {},
   "outputs": [],
   "source": [
    "import pandas as pd\n",
    "import numpy as np\n",
    "import scanpy as sc\n",
    "import pickle as pkl\n",
    "import json\n",
    "from sklearn.ensemble import RandomForestClassifier\n",
    "from sklearn.metrics import f1_score\n",
    "from sklearn.model_selection import cross_val_predict"
   ]
  },
  {
   "cell_type": "code",
   "execution_count": 2,
   "metadata": {},
   "outputs": [],
   "source": [
    "DATASET_TAGS = ['PBMC1']\n",
    "TOOLS = ['seurat', 'scanpy'] #, 'monocle', 'scvi-tools', 'COTAN']\n",
    "TUNING = 'celltypist' # or 'antibody'\n",
    "N_MARKERS = 500\n",
    "RANDOM_MARKERS_TRIALS = 10\n",
    "STEP = 100\n",
    "START = 100\n",
    "cluster_names = ['Classical monocytes', 'Naive B cells'] # should be in json files \"mapping.json\"\n",
    "clf = RandomForestClassifier()"
   ]
  },
  {
   "cell_type": "code",
   "execution_count": 3,
   "metadata": {},
   "outputs": [
    {
     "name": "stdout",
     "output_type": "stream",
     "text": [
      "# Processing dataset PBMC1\n",
      "## Training 1 vs Rest RF on markers\n",
      "Tool seurat\n",
      "Training with all markers\n"
     ]
    },
    {
     "name": "stderr",
     "output_type": "stream",
     "text": [
      "/Users/irenetesta/anaconda3/envs/chl/lib/python3.11/site-packages/anndata/_core/anndata.py:1113: FutureWarning: is_categorical_dtype is deprecated and will be removed in a future version. Use isinstance(dtype, CategoricalDtype) instead\n",
      "  if not is_categorical_dtype(df_full[k]):\n"
     ]
    },
    {
     "name": "stdout",
     "output_type": "stream",
     "text": [
      "Cluster 'Classical monocytes' done\n",
      "Training with 100 markers\n"
     ]
    },
    {
     "name": "stderr",
     "output_type": "stream",
     "text": [
      "/Users/irenetesta/anaconda3/envs/chl/lib/python3.11/site-packages/anndata/_core/anndata.py:1113: FutureWarning: is_categorical_dtype is deprecated and will be removed in a future version. Use isinstance(dtype, CategoricalDtype) instead\n",
      "  if not is_categorical_dtype(df_full[k]):\n"
     ]
    },
    {
     "name": "stdout",
     "output_type": "stream",
     "text": [
      "Training with 200 markers\n"
     ]
    },
    {
     "name": "stderr",
     "output_type": "stream",
     "text": [
      "/Users/irenetesta/anaconda3/envs/chl/lib/python3.11/site-packages/anndata/_core/anndata.py:1113: FutureWarning: is_categorical_dtype is deprecated and will be removed in a future version. Use isinstance(dtype, CategoricalDtype) instead\n",
      "  if not is_categorical_dtype(df_full[k]):\n"
     ]
    },
    {
     "name": "stdout",
     "output_type": "stream",
     "text": [
      "Training with 300 markers\n"
     ]
    },
    {
     "name": "stderr",
     "output_type": "stream",
     "text": [
      "/Users/irenetesta/anaconda3/envs/chl/lib/python3.11/site-packages/anndata/_core/anndata.py:1113: FutureWarning: is_categorical_dtype is deprecated and will be removed in a future version. Use isinstance(dtype, CategoricalDtype) instead\n",
      "  if not is_categorical_dtype(df_full[k]):\n"
     ]
    },
    {
     "name": "stdout",
     "output_type": "stream",
     "text": [
      "Training with 400 markers\n"
     ]
    },
    {
     "name": "stderr",
     "output_type": "stream",
     "text": [
      "/Users/irenetesta/anaconda3/envs/chl/lib/python3.11/site-packages/anndata/_core/anndata.py:1113: FutureWarning: is_categorical_dtype is deprecated and will be removed in a future version. Use isinstance(dtype, CategoricalDtype) instead\n",
      "  if not is_categorical_dtype(df_full[k]):\n"
     ]
    },
    {
     "name": "stdout",
     "output_type": "stream",
     "text": [
      "Training with all markers\n"
     ]
    },
    {
     "name": "stderr",
     "output_type": "stream",
     "text": [
      "/Users/irenetesta/anaconda3/envs/chl/lib/python3.11/site-packages/anndata/_core/anndata.py:1113: FutureWarning: is_categorical_dtype is deprecated and will be removed in a future version. Use isinstance(dtype, CategoricalDtype) instead\n",
      "  if not is_categorical_dtype(df_full[k]):\n"
     ]
    },
    {
     "name": "stdout",
     "output_type": "stream",
     "text": [
      "Cluster 'Naive B cells' done\n",
      "Training with 100 markers\n"
     ]
    },
    {
     "name": "stderr",
     "output_type": "stream",
     "text": [
      "/Users/irenetesta/anaconda3/envs/chl/lib/python3.11/site-packages/anndata/_core/anndata.py:1113: FutureWarning: is_categorical_dtype is deprecated and will be removed in a future version. Use isinstance(dtype, CategoricalDtype) instead\n",
      "  if not is_categorical_dtype(df_full[k]):\n"
     ]
    },
    {
     "name": "stdout",
     "output_type": "stream",
     "text": [
      "Training with 200 markers\n"
     ]
    },
    {
     "name": "stderr",
     "output_type": "stream",
     "text": [
      "/Users/irenetesta/anaconda3/envs/chl/lib/python3.11/site-packages/anndata/_core/anndata.py:1113: FutureWarning: is_categorical_dtype is deprecated and will be removed in a future version. Use isinstance(dtype, CategoricalDtype) instead\n",
      "  if not is_categorical_dtype(df_full[k]):\n"
     ]
    },
    {
     "name": "stdout",
     "output_type": "stream",
     "text": [
      "Training with 300 markers\n"
     ]
    },
    {
     "name": "stderr",
     "output_type": "stream",
     "text": [
      "/Users/irenetesta/anaconda3/envs/chl/lib/python3.11/site-packages/anndata/_core/anndata.py:1113: FutureWarning: is_categorical_dtype is deprecated and will be removed in a future version. Use isinstance(dtype, CategoricalDtype) instead\n",
      "  if not is_categorical_dtype(df_full[k]):\n"
     ]
    },
    {
     "name": "stdout",
     "output_type": "stream",
     "text": [
      "Training with 400 markers\n"
     ]
    },
    {
     "name": "stderr",
     "output_type": "stream",
     "text": [
      "/Users/irenetesta/anaconda3/envs/chl/lib/python3.11/site-packages/anndata/_core/anndata.py:1113: FutureWarning: is_categorical_dtype is deprecated and will be removed in a future version. Use isinstance(dtype, CategoricalDtype) instead\n",
      "  if not is_categorical_dtype(df_full[k]):\n"
     ]
    },
    {
     "name": "stdout",
     "output_type": "stream",
     "text": [
      "Tool scanpy\n",
      "Training with all markers\n"
     ]
    },
    {
     "name": "stderr",
     "output_type": "stream",
     "text": [
      "/Users/irenetesta/anaconda3/envs/chl/lib/python3.11/site-packages/anndata/_core/anndata.py:1113: FutureWarning: is_categorical_dtype is deprecated and will be removed in a future version. Use isinstance(dtype, CategoricalDtype) instead\n",
      "  if not is_categorical_dtype(df_full[k]):\n"
     ]
    },
    {
     "name": "stdout",
     "output_type": "stream",
     "text": [
      "Cluster 'Classical monocytes' done\n",
      "Training with 100 markers\n"
     ]
    },
    {
     "name": "stderr",
     "output_type": "stream",
     "text": [
      "/Users/irenetesta/anaconda3/envs/chl/lib/python3.11/site-packages/anndata/_core/anndata.py:1113: FutureWarning: is_categorical_dtype is deprecated and will be removed in a future version. Use isinstance(dtype, CategoricalDtype) instead\n",
      "  if not is_categorical_dtype(df_full[k]):\n"
     ]
    },
    {
     "name": "stdout",
     "output_type": "stream",
     "text": [
      "Training with 200 markers\n"
     ]
    },
    {
     "name": "stderr",
     "output_type": "stream",
     "text": [
      "/Users/irenetesta/anaconda3/envs/chl/lib/python3.11/site-packages/anndata/_core/anndata.py:1113: FutureWarning: is_categorical_dtype is deprecated and will be removed in a future version. Use isinstance(dtype, CategoricalDtype) instead\n",
      "  if not is_categorical_dtype(df_full[k]):\n"
     ]
    },
    {
     "name": "stdout",
     "output_type": "stream",
     "text": [
      "Training with 300 markers\n"
     ]
    },
    {
     "name": "stderr",
     "output_type": "stream",
     "text": [
      "/Users/irenetesta/anaconda3/envs/chl/lib/python3.11/site-packages/anndata/_core/anndata.py:1113: FutureWarning: is_categorical_dtype is deprecated and will be removed in a future version. Use isinstance(dtype, CategoricalDtype) instead\n",
      "  if not is_categorical_dtype(df_full[k]):\n"
     ]
    },
    {
     "name": "stdout",
     "output_type": "stream",
     "text": [
      "Training with 400 markers\n"
     ]
    },
    {
     "name": "stderr",
     "output_type": "stream",
     "text": [
      "/Users/irenetesta/anaconda3/envs/chl/lib/python3.11/site-packages/anndata/_core/anndata.py:1113: FutureWarning: is_categorical_dtype is deprecated and will be removed in a future version. Use isinstance(dtype, CategoricalDtype) instead\n",
      "  if not is_categorical_dtype(df_full[k]):\n"
     ]
    },
    {
     "name": "stdout",
     "output_type": "stream",
     "text": [
      "Training with all markers\n"
     ]
    },
    {
     "name": "stderr",
     "output_type": "stream",
     "text": [
      "/Users/irenetesta/anaconda3/envs/chl/lib/python3.11/site-packages/anndata/_core/anndata.py:1113: FutureWarning: is_categorical_dtype is deprecated and will be removed in a future version. Use isinstance(dtype, CategoricalDtype) instead\n",
      "  if not is_categorical_dtype(df_full[k]):\n"
     ]
    },
    {
     "name": "stdout",
     "output_type": "stream",
     "text": [
      "Cluster 'Naive B cells' done\n",
      "Training with 100 markers\n"
     ]
    },
    {
     "name": "stderr",
     "output_type": "stream",
     "text": [
      "/Users/irenetesta/anaconda3/envs/chl/lib/python3.11/site-packages/anndata/_core/anndata.py:1113: FutureWarning: is_categorical_dtype is deprecated and will be removed in a future version. Use isinstance(dtype, CategoricalDtype) instead\n",
      "  if not is_categorical_dtype(df_full[k]):\n"
     ]
    },
    {
     "name": "stdout",
     "output_type": "stream",
     "text": [
      "Training with 200 markers\n"
     ]
    },
    {
     "name": "stderr",
     "output_type": "stream",
     "text": [
      "/Users/irenetesta/anaconda3/envs/chl/lib/python3.11/site-packages/anndata/_core/anndata.py:1113: FutureWarning: is_categorical_dtype is deprecated and will be removed in a future version. Use isinstance(dtype, CategoricalDtype) instead\n",
      "  if not is_categorical_dtype(df_full[k]):\n"
     ]
    },
    {
     "name": "stdout",
     "output_type": "stream",
     "text": [
      "Training with 300 markers\n"
     ]
    },
    {
     "name": "stderr",
     "output_type": "stream",
     "text": [
      "/Users/irenetesta/anaconda3/envs/chl/lib/python3.11/site-packages/anndata/_core/anndata.py:1113: FutureWarning: is_categorical_dtype is deprecated and will be removed in a future version. Use isinstance(dtype, CategoricalDtype) instead\n",
      "  if not is_categorical_dtype(df_full[k]):\n"
     ]
    },
    {
     "name": "stdout",
     "output_type": "stream",
     "text": [
      "Training with 400 markers\n"
     ]
    },
    {
     "name": "stderr",
     "output_type": "stream",
     "text": [
      "/Users/irenetesta/anaconda3/envs/chl/lib/python3.11/site-packages/anndata/_core/anndata.py:1113: FutureWarning: is_categorical_dtype is deprecated and will be removed in a future version. Use isinstance(dtype, CategoricalDtype) instead\n",
      "  if not is_categorical_dtype(df_full[k]):\n"
     ]
    },
    {
     "name": "stdout",
     "output_type": "stream",
     "text": [
      "## Training 1 vs Rest RF on a random subset of 500 features\n",
      "Trial 1/10\n"
     ]
    },
    {
     "name": "stderr",
     "output_type": "stream",
     "text": [
      "/Users/irenetesta/anaconda3/envs/chl/lib/python3.11/site-packages/anndata/_core/anndata.py:1113: FutureWarning: is_categorical_dtype is deprecated and will be removed in a future version. Use isinstance(dtype, CategoricalDtype) instead\n",
      "  if not is_categorical_dtype(df_full[k]):\n"
     ]
    },
    {
     "name": "stdout",
     "output_type": "stream",
     "text": [
      "Trial 2/10\n"
     ]
    },
    {
     "name": "stderr",
     "output_type": "stream",
     "text": [
      "/Users/irenetesta/anaconda3/envs/chl/lib/python3.11/site-packages/anndata/_core/anndata.py:1113: FutureWarning: is_categorical_dtype is deprecated and will be removed in a future version. Use isinstance(dtype, CategoricalDtype) instead\n",
      "  if not is_categorical_dtype(df_full[k]):\n"
     ]
    },
    {
     "name": "stdout",
     "output_type": "stream",
     "text": [
      "Trial 3/10\n"
     ]
    },
    {
     "name": "stderr",
     "output_type": "stream",
     "text": [
      "/Users/irenetesta/anaconda3/envs/chl/lib/python3.11/site-packages/anndata/_core/anndata.py:1113: FutureWarning: is_categorical_dtype is deprecated and will be removed in a future version. Use isinstance(dtype, CategoricalDtype) instead\n",
      "  if not is_categorical_dtype(df_full[k]):\n"
     ]
    },
    {
     "name": "stdout",
     "output_type": "stream",
     "text": [
      "Trial 4/10\n"
     ]
    },
    {
     "name": "stderr",
     "output_type": "stream",
     "text": [
      "/Users/irenetesta/anaconda3/envs/chl/lib/python3.11/site-packages/anndata/_core/anndata.py:1113: FutureWarning: is_categorical_dtype is deprecated and will be removed in a future version. Use isinstance(dtype, CategoricalDtype) instead\n",
      "  if not is_categorical_dtype(df_full[k]):\n"
     ]
    },
    {
     "name": "stdout",
     "output_type": "stream",
     "text": [
      "Trial 5/10\n"
     ]
    },
    {
     "name": "stderr",
     "output_type": "stream",
     "text": [
      "/Users/irenetesta/anaconda3/envs/chl/lib/python3.11/site-packages/anndata/_core/anndata.py:1113: FutureWarning: is_categorical_dtype is deprecated and will be removed in a future version. Use isinstance(dtype, CategoricalDtype) instead\n",
      "  if not is_categorical_dtype(df_full[k]):\n"
     ]
    },
    {
     "name": "stdout",
     "output_type": "stream",
     "text": [
      "Trial 6/10\n"
     ]
    },
    {
     "name": "stderr",
     "output_type": "stream",
     "text": [
      "/Users/irenetesta/anaconda3/envs/chl/lib/python3.11/site-packages/anndata/_core/anndata.py:1113: FutureWarning: is_categorical_dtype is deprecated and will be removed in a future version. Use isinstance(dtype, CategoricalDtype) instead\n",
      "  if not is_categorical_dtype(df_full[k]):\n"
     ]
    },
    {
     "name": "stdout",
     "output_type": "stream",
     "text": [
      "Trial 7/10\n"
     ]
    },
    {
     "name": "stderr",
     "output_type": "stream",
     "text": [
      "/Users/irenetesta/anaconda3/envs/chl/lib/python3.11/site-packages/anndata/_core/anndata.py:1113: FutureWarning: is_categorical_dtype is deprecated and will be removed in a future version. Use isinstance(dtype, CategoricalDtype) instead\n",
      "  if not is_categorical_dtype(df_full[k]):\n"
     ]
    },
    {
     "name": "stdout",
     "output_type": "stream",
     "text": [
      "Trial 8/10\n"
     ]
    },
    {
     "name": "stderr",
     "output_type": "stream",
     "text": [
      "/Users/irenetesta/anaconda3/envs/chl/lib/python3.11/site-packages/anndata/_core/anndata.py:1113: FutureWarning: is_categorical_dtype is deprecated and will be removed in a future version. Use isinstance(dtype, CategoricalDtype) instead\n",
      "  if not is_categorical_dtype(df_full[k]):\n"
     ]
    },
    {
     "name": "stdout",
     "output_type": "stream",
     "text": [
      "Trial 9/10\n"
     ]
    },
    {
     "name": "stderr",
     "output_type": "stream",
     "text": [
      "/Users/irenetesta/anaconda3/envs/chl/lib/python3.11/site-packages/anndata/_core/anndata.py:1113: FutureWarning: is_categorical_dtype is deprecated and will be removed in a future version. Use isinstance(dtype, CategoricalDtype) instead\n",
      "  if not is_categorical_dtype(df_full[k]):\n"
     ]
    },
    {
     "name": "stdout",
     "output_type": "stream",
     "text": [
      "Trial 10/10\n"
     ]
    },
    {
     "name": "stderr",
     "output_type": "stream",
     "text": [
      "/Users/irenetesta/anaconda3/envs/chl/lib/python3.11/site-packages/anndata/_core/anndata.py:1113: FutureWarning: is_categorical_dtype is deprecated and will be removed in a future version. Use isinstance(dtype, CategoricalDtype) instead\n",
      "  if not is_categorical_dtype(df_full[k]):\n"
     ]
    },
    {
     "name": "stdout",
     "output_type": "stream",
     "text": [
      "Trial 1/10\n"
     ]
    },
    {
     "name": "stderr",
     "output_type": "stream",
     "text": [
      "/Users/irenetesta/anaconda3/envs/chl/lib/python3.11/site-packages/anndata/_core/anndata.py:1113: FutureWarning: is_categorical_dtype is deprecated and will be removed in a future version. Use isinstance(dtype, CategoricalDtype) instead\n",
      "  if not is_categorical_dtype(df_full[k]):\n"
     ]
    },
    {
     "name": "stdout",
     "output_type": "stream",
     "text": [
      "Trial 2/10\n"
     ]
    },
    {
     "name": "stderr",
     "output_type": "stream",
     "text": [
      "/Users/irenetesta/anaconda3/envs/chl/lib/python3.11/site-packages/anndata/_core/anndata.py:1113: FutureWarning: is_categorical_dtype is deprecated and will be removed in a future version. Use isinstance(dtype, CategoricalDtype) instead\n",
      "  if not is_categorical_dtype(df_full[k]):\n"
     ]
    },
    {
     "name": "stdout",
     "output_type": "stream",
     "text": [
      "Trial 3/10\n"
     ]
    },
    {
     "name": "stderr",
     "output_type": "stream",
     "text": [
      "/Users/irenetesta/anaconda3/envs/chl/lib/python3.11/site-packages/anndata/_core/anndata.py:1113: FutureWarning: is_categorical_dtype is deprecated and will be removed in a future version. Use isinstance(dtype, CategoricalDtype) instead\n",
      "  if not is_categorical_dtype(df_full[k]):\n"
     ]
    },
    {
     "name": "stdout",
     "output_type": "stream",
     "text": [
      "Trial 4/10\n"
     ]
    },
    {
     "name": "stderr",
     "output_type": "stream",
     "text": [
      "/Users/irenetesta/anaconda3/envs/chl/lib/python3.11/site-packages/anndata/_core/anndata.py:1113: FutureWarning: is_categorical_dtype is deprecated and will be removed in a future version. Use isinstance(dtype, CategoricalDtype) instead\n",
      "  if not is_categorical_dtype(df_full[k]):\n"
     ]
    },
    {
     "name": "stdout",
     "output_type": "stream",
     "text": [
      "Trial 5/10\n"
     ]
    },
    {
     "name": "stderr",
     "output_type": "stream",
     "text": [
      "/Users/irenetesta/anaconda3/envs/chl/lib/python3.11/site-packages/anndata/_core/anndata.py:1113: FutureWarning: is_categorical_dtype is deprecated and will be removed in a future version. Use isinstance(dtype, CategoricalDtype) instead\n",
      "  if not is_categorical_dtype(df_full[k]):\n"
     ]
    },
    {
     "name": "stdout",
     "output_type": "stream",
     "text": [
      "Trial 6/10\n"
     ]
    },
    {
     "name": "stderr",
     "output_type": "stream",
     "text": [
      "/Users/irenetesta/anaconda3/envs/chl/lib/python3.11/site-packages/anndata/_core/anndata.py:1113: FutureWarning: is_categorical_dtype is deprecated and will be removed in a future version. Use isinstance(dtype, CategoricalDtype) instead\n",
      "  if not is_categorical_dtype(df_full[k]):\n"
     ]
    },
    {
     "name": "stdout",
     "output_type": "stream",
     "text": [
      "Trial 7/10\n"
     ]
    },
    {
     "name": "stderr",
     "output_type": "stream",
     "text": [
      "/Users/irenetesta/anaconda3/envs/chl/lib/python3.11/site-packages/anndata/_core/anndata.py:1113: FutureWarning: is_categorical_dtype is deprecated and will be removed in a future version. Use isinstance(dtype, CategoricalDtype) instead\n",
      "  if not is_categorical_dtype(df_full[k]):\n"
     ]
    },
    {
     "name": "stdout",
     "output_type": "stream",
     "text": [
      "Trial 8/10\n"
     ]
    },
    {
     "name": "stderr",
     "output_type": "stream",
     "text": [
      "/Users/irenetesta/anaconda3/envs/chl/lib/python3.11/site-packages/anndata/_core/anndata.py:1113: FutureWarning: is_categorical_dtype is deprecated and will be removed in a future version. Use isinstance(dtype, CategoricalDtype) instead\n",
      "  if not is_categorical_dtype(df_full[k]):\n"
     ]
    },
    {
     "name": "stdout",
     "output_type": "stream",
     "text": [
      "Trial 9/10\n"
     ]
    },
    {
     "name": "stderr",
     "output_type": "stream",
     "text": [
      "/Users/irenetesta/anaconda3/envs/chl/lib/python3.11/site-packages/anndata/_core/anndata.py:1113: FutureWarning: is_categorical_dtype is deprecated and will be removed in a future version. Use isinstance(dtype, CategoricalDtype) instead\n",
      "  if not is_categorical_dtype(df_full[k]):\n"
     ]
    },
    {
     "name": "stdout",
     "output_type": "stream",
     "text": [
      "Trial 10/10\n"
     ]
    },
    {
     "name": "stderr",
     "output_type": "stream",
     "text": [
      "/Users/irenetesta/anaconda3/envs/chl/lib/python3.11/site-packages/anndata/_core/anndata.py:1113: FutureWarning: is_categorical_dtype is deprecated and will be removed in a future version. Use isinstance(dtype, CategoricalDtype) instead\n",
      "  if not is_categorical_dtype(df_full[k]):\n"
     ]
    },
    {
     "data": {
      "text/html": [
       "<div>\n",
       "<style scoped>\n",
       "    .dataframe tbody tr th:only-of-type {\n",
       "        vertical-align: middle;\n",
       "    }\n",
       "\n",
       "    .dataframe tbody tr th {\n",
       "        vertical-align: top;\n",
       "    }\n",
       "\n",
       "    .dataframe thead th {\n",
       "        text-align: right;\n",
       "    }\n",
       "</style>\n",
       "<table border=\"1\" class=\"dataframe\">\n",
       "  <thead>\n",
       "    <tr style=\"text-align: right;\">\n",
       "      <th></th>\n",
       "      <th>seurat</th>\n",
       "      <th>scanpy</th>\n",
       "      <th>random_markers</th>\n",
       "    </tr>\n",
       "  </thead>\n",
       "  <tbody>\n",
       "    <tr>\n",
       "      <th>Classical monocytes</th>\n",
       "      <td>0.978116</td>\n",
       "      <td>0.976589</td>\n",
       "      <td>0.947857 +/- 0.008753</td>\n",
       "    </tr>\n",
       "    <tr>\n",
       "      <th>Naive B cells</th>\n",
       "      <td>0.845878</td>\n",
       "      <td>0.873646</td>\n",
       "      <td>0.358352 +/- 0.191403</td>\n",
       "    </tr>\n",
       "    <tr>\n",
       "      <th>avg</th>\n",
       "      <td>0.961894</td>\n",
       "      <td>0.963960</td>\n",
       "      <td>0.875541</td>\n",
       "    </tr>\n",
       "    <tr>\n",
       "      <th>std</th>\n",
       "      <td>0.043382</td>\n",
       "      <td>0.033771</td>\n",
       "      <td>0.193394</td>\n",
       "    </tr>\n",
       "  </tbody>\n",
       "</table>\n",
       "</div>"
      ],
      "text/plain": [
       "                       seurat    scanpy         random_markers\n",
       "Classical monocytes  0.978116  0.976589  0.947857 +/- 0.008753\n",
       "Naive B cells        0.845878  0.873646  0.358352 +/- 0.191403\n",
       "avg                  0.961894  0.963960               0.875541\n",
       "std                  0.043382  0.033771               0.193394"
      ]
     },
     "metadata": {},
     "output_type": "display_data"
    }
   ],
   "source": [
    "for dataset in DATASET_TAGS:\n",
    "\tprint(f\"# Processing dataset {dataset}\")\n",
    "\tdata_path = f\"./data/{dataset}/filtered/10X/\"\n",
    "\tif TUNING == \"celltypist\":\n",
    "\t\tlabels_path = f\"./data/{dataset}/{TUNING}/{TUNING}_labels.csv\"\n",
    "\telse:\n",
    "\t\tlabels_path = f\"./data/{dataset}/{TUNING}_annotation/{TUNING}_labels.csv\"\n",
    "\t# load gene expression matrix\n",
    "\tadata = sc.read_10x_mtx(\n",
    "\t\tdata_path,\n",
    "\t\tvar_names='gene_symbols',\n",
    "\t\tcache=False\n",
    "\t)\n",
    "\t# load true labels\n",
    "\ty_df = pd.read_csv(labels_path, index_col=0)\n",
    "\ty_df.index = y_df.index.str.replace(\"-1\", \"\")\n",
    "\ty_df = pd.DataFrame(adata.obs_names, columns=[\"cell\"]).join(y_df, on=\"cell\")\n",
    "\ty = np.array(y_df['cluster.ids']).astype(int)\n",
    "\t# load ground truth mapping\n",
    "\tgt_mapping_path = f\"./data/{dataset}/{TUNING}/{TUNING}_mapping.csv\"\n",
    "\tgt_mapping_df = pd.read_csv(gt_mapping_path, index_col=1)\n",
    "\tgt_mapping_dict = {}\n",
    "\tfor index, row in gt_mapping_df.iterrows():\n",
    "\t\tgt_mapping_dict[index] = row['id']\n",
    "\t# binarize labels\n",
    "\ty_ovr = {}\n",
    "\tfor cluster_name, cluster_id in gt_mapping_dict.items():\n",
    "\t\tif cluster_name in cluster_names:\n",
    "\t\t\ty_ovr[cluster_name] = np.array(y==cluster_id, dtype=int)\n",
    "\t# compute cluster sizes to use as weights for averaging f1\n",
    "\tweights = np.zeros(len(y_ovr))\n",
    "\tfor i, gt_cluster_name in enumerate(cluster_names):\n",
    "\t\tweights[i] = y_ovr[gt_cluster_name].sum()\n",
    "\t\n",
    "\t# evaluate each tool\n",
    "\tprint(\"## Training 1 vs Rest RF on markers\")\n",
    "\tf1 = {}\n",
    "\tf1_subsets = {}\n",
    "\tfor tool in TOOLS:\n",
    "\t\tprint(f\"Tool {tool}\")\n",
    "\t\tf1[tool] = {}\n",
    "\t\tf1_subsets[tool] = {}\n",
    "\t\tf1_tool = []\n",
    "\t\t# load tool markers\n",
    "\t\tmarkers_path = f\"./data/{dataset}/{tool}/{TUNING}/markers.csv\"\n",
    "\t\tmarkers_df = pd.read_csv(markers_path)\n",
    "\t\t# load tool mapping\n",
    "\t\twith open(f'./data/{dataset}/{tool}/{TUNING}/mapping.json', 'r') as file:\n",
    "\t\t\ttool_mapping = json.load(file)\n",
    "\t\t\n",
    "\t\t# train binary classifiers for each cluster using markers\n",
    "\t\tfor gt_cluster_name, tool_cluster_id in tool_mapping.items():\n",
    "\t\t\t# train using all markers\n",
    "\t\t\tprint(\"Training with all markers\")\n",
    "\t\t\tmarkers = markers_df[(markers_df['cluster']==tool_cluster_id)]['gene'].values\n",
    "\t\t\tX_markers = adata[:, markers].X.toarray()\n",
    "\t\t\ty_pred = cross_val_predict(clf, X_markers, y_ovr[gt_cluster_name], cv=5)\n",
    "\t\t\tf1_tool_cluster = f1_score(y_ovr[gt_cluster_name], y_pred)\n",
    "\t\t\tf1[tool][gt_cluster_name] = f1_tool_cluster\n",
    "\t\t\tf1_tool.append(f1_tool_cluster)\n",
    "\t\t\tprint(f\"Cluster '{gt_cluster_name}' done\")\n",
    "\t\t\t\n",
    "\t\t\t# train using subsets of markers\n",
    "\t\t\tf1_subsets[tool][gt_cluster_name] = []\n",
    "\t\t\tfor i in range(START, N_MARKERS, STEP):\n",
    "\t\t\t\tprint(f\"Training with {i} markers\")\n",
    "\t\t\t\tmarkers = markers_df[\n",
    "\t\t\t\t\t(markers_df['cluster']==tool_cluster_id) &\n",
    "\t\t\t\t\t(markers_df['rank']<=i)\n",
    "\t\t\t\t]['gene'].values\n",
    "\t\t\t\tX_markers = adata[:, markers].X.toarray()\n",
    "\t\t\t\ty_pred = cross_val_predict(clf, X_markers, y_ovr[gt_cluster_name], cv=5)\n",
    "\t\t\t\tf1_subset_tool_cluster = f1_score(y_ovr[gt_cluster_name], y_pred)\n",
    "\t\t\t\tf1_subsets[tool][gt_cluster_name].append(f1_subset_tool_cluster)\n",
    "\t\t\t\n",
    "\t\t\t# append score using all markers\n",
    "\t\t\tf1_subsets[tool][gt_cluster_name].append(f1_tool_cluster)\n",
    "\t\t\n",
    "\t\tf1_weighted_avg = np.average(f1_tool, weights=weights)\n",
    "\t\tf1[tool]['avg'] = f1_weighted_avg \n",
    "\t\tvar = np.average((f1_tool-f1_weighted_avg)**2, weights=weights)\n",
    "\t\tstd = np.sqrt(var)\n",
    "\t\tf1[tool]['std'] = std\n",
    "\t\n",
    "\t# evaluate random markers\n",
    "\tprint(f\"## Training 1 vs Rest RF on a random subset of {N_MARKERS} features\")\n",
    "\tf1['random_markers'] = {}\n",
    "\tf1_random = []\n",
    "\tfor gt_cluster_name in tool_mapping.keys():\n",
    "\t\tf1_trials = []\n",
    "\t\tfor i in range(RANDOM_MARKERS_TRIALS):\n",
    "\t\t\tprint(f\"Trial {i+1}/{RANDOM_MARKERS_TRIALS}\")\n",
    "\t\t\tX_sample = adata[:, np.random.choice(adata.shape[1], N_MARKERS, replace=False)].X.toarray()\n",
    "\t\t\ty_pred = cross_val_predict(clf, X_sample, y_ovr[gt_cluster_name], cv=5)\n",
    "\t\t\tf1_random_cluster = f1_score(y_ovr[gt_cluster_name], y_pred)\n",
    "\t\t\tf1_trials.append(f1_random_cluster)\n",
    "\t\tf1_avg = np.average(f1_trials)\n",
    "\t\tf1_std = np.std(f1_trials)\n",
    "\t\tf1['random_markers'][gt_cluster_name] = str(\"{:.6f}\".format(f1_avg))+' +/- '+str(\"{:.6f}\".format(f1_std))\n",
    "\t\tf1_random.append(f1_avg)\n",
    "\t\n",
    "\tf1_weighted_avg = np.average(f1_random, weights=weights)\n",
    "\tf1['random_markers']['avg'] = f1_weighted_avg \n",
    "\tvar = np.average((f1_random-f1_weighted_avg)**2, weights=weights)\n",
    "\tstd = np.sqrt(var)\n",
    "\tf1['random_markers']['std'] = std\n",
    "\n",
    "\t# save classification results\n",
    "\tf1_df = pd.DataFrame.from_dict(f1)\n",
    "\tdisplay(f1_df)\n",
    "\tf1_df.to_csv(f\"./data/{dataset}/rf_f1_{TUNING}.csv\")\n",
    "\n",
    "\t# save f1 computed on subsets of markers\n",
    "\twith open(f\"./data/{dataset}/rf_f1_{TUNING}_increasing.pkl\", 'wb') as fp:\n",
    "\t\tpkl.dump(f1_subsets, fp)"
   ]
  }
 ],
 "metadata": {
  "kernelspec": {
   "display_name": "base",
   "language": "python",
   "name": "python3"
  },
  "language_info": {
   "codemirror_mode": {
    "name": "ipython",
    "version": 3
   },
   "file_extension": ".py",
   "mimetype": "text/x-python",
   "name": "python",
   "nbconvert_exporter": "python",
   "pygments_lexer": "ipython3",
   "version": "3.11.5"
  }
 },
 "nbformat": 4,
 "nbformat_minor": 2
}
