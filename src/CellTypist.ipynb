{
 "cells": [
  {
   "cell_type": "markdown",
   "id": "understood-farmer",
   "metadata": {
    "id": "understood-farmer",
    "tags": []
   },
   "source": [
    "# Using CellTypist for cell type classification\n",
    "This notebook showcases the cell type classification for scRNA-seq query data by retrieving the most likely cell type labels from either the built-in CellTypist models or the user-trained custom models."
   ]
  },
  {
   "cell_type": "markdown",
   "id": "cZkKMv9bslsT",
   "metadata": {
    "id": "cZkKMv9bslsT"
   },
   "source": [
    "*This is my version modified using also the github information.*"
   ]
  },
  {
   "cell_type": "markdown",
   "id": "exterior-thousand",
   "metadata": {
    "id": "exterior-thousand"
   },
   "source": [
    "Only the main steps and key parameters are introduced in this notebook. Refer to detailed [Usage](https://github.com/Teichlab/celltypist#usage) if you want to learn more."
   ]
  },
  {
   "cell_type": "markdown",
   "id": "assisted-clear",
   "metadata": {
    "id": "assisted-clear"
   },
   "source": [
    "## Install CellTypist"
   ]
  },
  {
   "cell_type": "code",
   "execution_count": 1,
   "id": "automotive-traveler",
   "metadata": {
    "colab": {
     "base_uri": "https://localhost:8080/"
    },
    "executionInfo": {
     "elapsed": 9060,
     "status": "ok",
     "timestamp": 1691913284183,
     "user": {
      "displayName": "SILVIA GIULIA GALFRE'",
      "userId": "02893296622354545296"
     },
     "user_tz": -120
    },
    "id": "automotive-traveler",
    "outputId": "9581a03b-a69d-478a-94b4-66270783a3ae",
    "tags": []
   },
   "outputs": [
    {
     "name": "stdout",
     "output_type": "stream",
     "text": [
      "Requirement already satisfied: celltypist in /home/seriph/.local/lib/python3.8/site-packages (1.6.0)\n",
      "Requirement already satisfied: openpyxl>=3.0.4 in /home/seriph/.local/lib/python3.8/site-packages (from celltypist) (3.1.2)\n",
      "Requirement already satisfied: click>=7.1.2 in /home/seriph/.local/lib/python3.8/site-packages (from celltypist) (8.1.6)\n",
      "Requirement already satisfied: requests>=2.23.0 in /home/seriph/.local/lib/python3.8/site-packages (from celltypist) (2.31.0)\n",
      "Requirement already satisfied: leidenalg>=0.9.0 in /home/seriph/.local/lib/python3.8/site-packages (from celltypist) (0.10.1)\n",
      "Requirement already satisfied: numpy>=1.19.0 in /home/seriph/.local/lib/python3.8/site-packages (from celltypist) (1.24.4)\n",
      "Requirement already satisfied: scanpy>=1.7.0 in /home/seriph/.local/lib/python3.8/site-packages (from celltypist) (1.9.3)\n",
      "Requirement already satisfied: pandas>=1.0.5 in /home/seriph/.local/lib/python3.8/site-packages (from celltypist) (2.0.3)\n",
      "Requirement already satisfied: scikit-learn>=0.24.1 in /home/seriph/.local/lib/python3.8/site-packages (from celltypist) (1.3.0)\n",
      "Requirement already satisfied: et-xmlfile in /home/seriph/.local/lib/python3.8/site-packages (from openpyxl>=3.0.4->celltypist) (1.1.0)\n",
      "Requirement already satisfied: idna<4,>=2.5 in /usr/lib/python3/dist-packages (from requests>=2.23.0->celltypist) (2.8)\n",
      "Requirement already satisfied: charset-normalizer<4,>=2 in /home/seriph/.local/lib/python3.8/site-packages (from requests>=2.23.0->celltypist) (3.2.0)\n",
      "Requirement already satisfied: certifi>=2017.4.17 in /usr/lib/python3/dist-packages (from requests>=2.23.0->celltypist) (2019.11.28)\n",
      "Requirement already satisfied: urllib3<3,>=1.21.1 in /usr/lib/python3/dist-packages (from requests>=2.23.0->celltypist) (1.25.8)\n",
      "Requirement already satisfied: igraph<0.11,>=0.10.0 in /home/seriph/.local/lib/python3.8/site-packages (from leidenalg>=0.9.0->celltypist) (0.10.6)\n",
      "Requirement already satisfied: tqdm in /home/seriph/.local/lib/python3.8/site-packages (from scanpy>=1.7.0->celltypist) (4.66.1)\n",
      "Requirement already satisfied: session-info in /home/seriph/.local/lib/python3.8/site-packages (from scanpy>=1.7.0->celltypist) (1.0.0)\n",
      "Requirement already satisfied: h5py>=3 in /home/seriph/.local/lib/python3.8/site-packages (from scanpy>=1.7.0->celltypist) (3.9.0)\n",
      "Requirement already satisfied: patsy in /home/seriph/.local/lib/python3.8/site-packages (from scanpy>=1.7.0->celltypist) (0.5.3)\n",
      "Requirement already satisfied: joblib in /home/seriph/.local/lib/python3.8/site-packages (from scanpy>=1.7.0->celltypist) (1.3.2)\n",
      "Requirement already satisfied: umap-learn>=0.3.10 in /home/seriph/.local/lib/python3.8/site-packages (from scanpy>=1.7.0->celltypist) (0.5.3)\n",
      "Requirement already satisfied: packaging in /home/seriph/.local/lib/python3.8/site-packages (from scanpy>=1.7.0->celltypist) (23.1)\n",
      "Requirement already satisfied: matplotlib>=3.4 in /home/seriph/.local/lib/python3.8/site-packages (from scanpy>=1.7.0->celltypist) (3.7.2)\n",
      "Requirement already satisfied: statsmodels>=0.10.0rc2 in /home/seriph/.local/lib/python3.8/site-packages (from scanpy>=1.7.0->celltypist) (0.14.0)\n",
      "Requirement already satisfied: numba>=0.41.0 in /home/seriph/.local/lib/python3.8/site-packages (from scanpy>=1.7.0->celltypist) (0.57.1)\n",
      "Requirement already satisfied: anndata>=0.7.4 in /home/seriph/.local/lib/python3.8/site-packages (from scanpy>=1.7.0->celltypist) (0.9.2)\n",
      "Requirement already satisfied: scipy>=1.4 in /home/seriph/.local/lib/python3.8/site-packages (from scanpy>=1.7.0->celltypist) (1.10.1)\n",
      "Requirement already satisfied: natsort in /home/seriph/.local/lib/python3.8/site-packages (from scanpy>=1.7.0->celltypist) (8.4.0)\n",
      "Requirement already satisfied: seaborn in /home/seriph/.local/lib/python3.8/site-packages (from scanpy>=1.7.0->celltypist) (0.12.2)\n",
      "Requirement already satisfied: networkx>=2.3 in /home/seriph/.local/lib/python3.8/site-packages (from scanpy>=1.7.0->celltypist) (3.1)\n",
      "Requirement already satisfied: tzdata>=2022.1 in /home/seriph/.local/lib/python3.8/site-packages (from pandas>=1.0.5->celltypist) (2023.3)\n",
      "Requirement already satisfied: pytz>=2020.1 in /home/seriph/.local/lib/python3.8/site-packages (from pandas>=1.0.5->celltypist) (2023.3)\n",
      "Requirement already satisfied: python-dateutil>=2.8.2 in /home/seriph/.local/lib/python3.8/site-packages (from pandas>=1.0.5->celltypist) (2.8.2)\n",
      "Requirement already satisfied: threadpoolctl>=2.0.0 in /home/seriph/.local/lib/python3.8/site-packages (from scikit-learn>=0.24.1->celltypist) (3.2.0)\n",
      "Requirement already satisfied: texttable>=1.6.2 in /home/seriph/.local/lib/python3.8/site-packages (from igraph<0.11,>=0.10.0->leidenalg>=0.9.0->celltypist) (1.6.7)\n",
      "Requirement already satisfied: stdlib-list in /home/seriph/.local/lib/python3.8/site-packages (from session-info->scanpy>=1.7.0->celltypist) (0.9.0)\n",
      "Requirement already satisfied: six in /usr/lib/python3/dist-packages (from patsy->scanpy>=1.7.0->celltypist) (1.14.0)\n",
      "Requirement already satisfied: pynndescent>=0.5 in /home/seriph/.local/lib/python3.8/site-packages (from umap-learn>=0.3.10->scanpy>=1.7.0->celltypist) (0.5.10)\n",
      "Requirement already satisfied: fonttools>=4.22.0 in /home/seriph/.local/lib/python3.8/site-packages (from matplotlib>=3.4->scanpy>=1.7.0->celltypist) (4.42.0)\n",
      "Requirement already satisfied: importlib-resources>=3.2.0; python_version < \"3.10\" in /home/seriph/.local/lib/python3.8/site-packages (from matplotlib>=3.4->scanpy>=1.7.0->celltypist) (6.0.1)\n",
      "Requirement already satisfied: cycler>=0.10 in /home/seriph/.local/lib/python3.8/site-packages (from matplotlib>=3.4->scanpy>=1.7.0->celltypist) (0.11.0)\n",
      "Requirement already satisfied: pyparsing<3.1,>=2.3.1 in /home/seriph/.local/lib/python3.8/site-packages (from matplotlib>=3.4->scanpy>=1.7.0->celltypist) (3.0.9)\n",
      "Requirement already satisfied: contourpy>=1.0.1 in /home/seriph/.local/lib/python3.8/site-packages (from matplotlib>=3.4->scanpy>=1.7.0->celltypist) (1.1.0)\n",
      "Requirement already satisfied: pillow>=6.2.0 in /home/seriph/.local/lib/python3.8/site-packages (from matplotlib>=3.4->scanpy>=1.7.0->celltypist) (10.0.0)\n",
      "Requirement already satisfied: kiwisolver>=1.0.1 in /home/seriph/.local/lib/python3.8/site-packages (from matplotlib>=3.4->scanpy>=1.7.0->celltypist) (1.4.4)\n",
      "Requirement already satisfied: importlib-metadata; python_version < \"3.9\" in /home/seriph/.local/lib/python3.8/site-packages (from numba>=0.41.0->scanpy>=1.7.0->celltypist) (6.8.0)\n",
      "Requirement already satisfied: llvmlite<0.41,>=0.40.0dev0 in /home/seriph/.local/lib/python3.8/site-packages (from numba>=0.41.0->scanpy>=1.7.0->celltypist) (0.40.1)\n",
      "Requirement already satisfied: zipp>=3.1.0; python_version < \"3.10\" in /home/seriph/.local/lib/python3.8/site-packages (from importlib-resources>=3.2.0; python_version < \"3.10\"->matplotlib>=3.4->scanpy>=1.7.0->celltypist) (3.16.2)\n"
     ]
    }
   ],
   "source": [
    "!pip install celltypist"
   ]
  },
  {
   "cell_type": "code",
   "execution_count": 1,
   "id": "organized-wedding",
   "metadata": {
    "executionInfo": {
     "elapsed": 4,
     "status": "ok",
     "timestamp": 1691866157355,
     "user": {
      "displayName": "SILVIA GIULIA GALFRE'",
      "userId": "02893296622354545296"
     },
     "user_tz": -120
    },
    "id": "organized-wedding"
   },
   "outputs": [],
   "source": [
    "import scanpy as sc"
   ]
  },
  {
   "cell_type": "code",
   "execution_count": 2,
   "id": "intelligent-standard",
   "metadata": {
    "executionInfo": {
     "elapsed": 4,
     "status": "ok",
     "timestamp": 1691866157356,
     "user": {
      "displayName": "SILVIA GIULIA GALFRE'",
      "userId": "02893296622354545296"
     },
     "user_tz": -120
    },
    "id": "intelligent-standard"
   },
   "outputs": [],
   "source": [
    "import celltypist\n",
    "from celltypist import models"
   ]
  },
  {
   "cell_type": "code",
   "execution_count": 10,
   "id": "ScQLhhvctA2g",
   "metadata": {
    "colab": {
     "base_uri": "https://localhost:8080/"
    },
    "executionInfo": {
     "elapsed": 2338,
     "status": "ok",
     "timestamp": 1691866160619,
     "user": {
      "displayName": "SILVIA GIULIA GALFRE'",
      "userId": "02893296622354545296"
     },
     "user_tz": -120
    },
    "id": "ScQLhhvctA2g",
    "outputId": "f1164718-0e6e-4280-8757-2b3d88dbdf52"
   },
   "outputs": [
    {
     "name": "stdout",
     "output_type": "stream",
     "text": [
      "Drive already mounted at /content/drive; to attempt to forcibly remount, call drive.mount(\"/content/drive\", force_remount=True).\n"
     ]
    }
   ],
   "source": [
    "#from google.colab import drive\n",
    "#drive.mount('/content/drive')"
   ]
  },
  {
   "cell_type": "code",
   "execution_count": 3,
   "id": "DBFsXF4v3U7S",
   "metadata": {
    "executionInfo": {
     "elapsed": 386,
     "status": "ok",
     "timestamp": 1691866171132,
     "user": {
      "displayName": "SILVIA GIULIA GALFRE'",
      "userId": "02893296622354545296"
     },
     "user_tz": -120
    },
    "id": "DBFsXF4v3U7S"
   },
   "outputs": [],
   "source": [
    "#import os\n",
    "#import gzip"
   ]
  },
  {
   "cell_type": "code",
   "execution_count": 3,
   "id": "316969e3-7ee1-4c5f-be83-7cfbb26c54f6",
   "metadata": {},
   "outputs": [
    {
     "name": "stderr",
     "output_type": "stream",
     "text": [
      "📜 Retrieving model list from server https://celltypist.cog.sanger.ac.uk/models/models.json\n",
      "📚 Total models in list: 48\n",
      "📂 Storing models in /home/seriph/.celltypist/data/models\n",
      "💾 Downloading model [1/48]: Immune_All_Low.pkl\n",
      "💾 Downloading model [2/48]: Immune_All_High.pkl\n",
      "💾 Downloading model [3/48]: Adult_CynomolgusMacaque_Hippocampus.pkl\n",
      "💾 Downloading model [4/48]: Adult_Human_PancreaticIslet.pkl\n",
      "💾 Downloading model [5/48]: Adult_Human_Skin.pkl\n",
      "💾 Downloading model [6/48]: Adult_Mouse_Gut.pkl\n",
      "💾 Downloading model [7/48]: Adult_Mouse_OlfactoryBulb.pkl\n",
      "💾 Downloading model [8/48]: Adult_Pig_Hippocampus.pkl\n",
      "💾 Downloading model [9/48]: Adult_RhesusMacaque_Hippocampus.pkl\n",
      "💾 Downloading model [10/48]: Autopsy_COVID19_Lung.pkl\n",
      "💾 Downloading model [11/48]: COVID19_HumanChallenge_Blood.pkl\n",
      "💾 Downloading model [12/48]: COVID19_Immune_Landscape.pkl\n",
      "💾 Downloading model [13/48]: Cells_Adult_Breast.pkl\n",
      "💾 Downloading model [14/48]: Cells_Fetal_Lung.pkl\n",
      "💾 Downloading model [15/48]: Cells_Human_Tonsil.pkl\n",
      "💾 Downloading model [16/48]: Cells_Intestinal_Tract.pkl\n",
      "💾 Downloading model [17/48]: Cells_Lung_Airway.pkl\n",
      "💾 Downloading model [18/48]: Developing_Human_Brain.pkl\n",
      "💾 Downloading model [19/48]: Developing_Human_Gonads.pkl\n",
      "💾 Downloading model [20/48]: Developing_Human_Hippocampus.pkl\n",
      "💾 Downloading model [21/48]: Developing_Human_Organs.pkl\n",
      "💾 Downloading model [22/48]: Developing_Human_Thymus.pkl\n",
      "💾 Downloading model [23/48]: Developing_Mouse_Brain.pkl\n",
      "💾 Downloading model [24/48]: Developing_Mouse_Hippocampus.pkl\n",
      "💾 Downloading model [25/48]: Fetal_Human_AdrenalGlands.pkl\n",
      "💾 Downloading model [26/48]: Fetal_Human_Pancreas.pkl\n",
      "💾 Downloading model [27/48]: Fetal_Human_Pituitary.pkl\n",
      "💾 Downloading model [28/48]: Fetal_Human_Retina.pkl\n",
      "💾 Downloading model [29/48]: Fetal_Human_Skin.pkl\n",
      "💾 Downloading model [30/48]: Healthy_Adult_Heart.pkl\n",
      "💾 Downloading model [31/48]: Healthy_COVID19_PBMC.pkl\n",
      "💾 Downloading model [32/48]: Healthy_Human_Liver.pkl\n",
      "💾 Downloading model [33/48]: Healthy_Mouse_Liver.pkl\n",
      "💾 Downloading model [34/48]: Human_AdultAged_Hippocampus.pkl\n",
      "💾 Downloading model [35/48]: Human_Colorectal_Cancer.pkl\n",
      "💾 Downloading model [36/48]: Human_Developmental_Retina.pkl\n",
      "💾 Downloading model [37/48]: Human_Embryonic_YolkSac.pkl\n",
      "💾 Downloading model [38/48]: Human_IPF_Lung.pkl\n",
      "💾 Downloading model [39/48]: Human_Longitudinal_Hippocampus.pkl\n",
      "💾 Downloading model [40/48]: Human_Lung_Atlas.pkl\n",
      "💾 Downloading model [41/48]: Human_PF_Lung.pkl\n",
      "💾 Downloading model [42/48]: Lethal_COVID19_Lung.pkl\n",
      "💾 Downloading model [43/48]: Mouse_Dentate_Gyrus.pkl\n",
      "💾 Downloading model [44/48]: Mouse_Isocortex_Hippocampus.pkl\n",
      "💾 Downloading model [45/48]: Mouse_Postnatal_DentateGyrus.pkl\n",
      "💾 Downloading model [46/48]: Mouse_Whole_Brain.pkl\n",
      "💾 Downloading model [47/48]: Nuclei_Lung_Airway.pkl\n",
      "💾 Downloading model [48/48]: Pan_Fetal_Human.pkl\n"
     ]
    }
   ],
   "source": [
    "# Enabling `force_update = True` will overwrite existing (old) models.\n",
    "models.download_models(force_update = True)"
   ]
  },
  {
   "cell_type": "code",
   "execution_count": 4,
   "id": "nq7LKI9G8WUu",
   "metadata": {
    "colab": {
     "base_uri": "https://localhost:8080/",
     "height": 35
    },
    "executionInfo": {
     "elapsed": 767,
     "status": "ok",
     "timestamp": 1691746434370,
     "user": {
      "displayName": "SILVIA GIULIA GALFRE'",
      "userId": "02893296622354545296"
     },
     "user_tz": -120
    },
    "id": "nq7LKI9G8WUu",
    "outputId": "8d1e31a1-a312-46a2-f212-eb11f2035380"
   },
   "outputs": [
    {
     "data": {
      "text/plain": [
       "'/home/seriph/.celltypist/data/models'"
      ]
     },
     "execution_count": 4,
     "metadata": {},
     "output_type": "execute_result"
    }
   ],
   "source": [
    "models.models_path"
   ]
  },
  {
   "cell_type": "code",
   "execution_count": 7,
   "id": "Mo_6OiCM8WUu",
   "metadata": {
    "colab": {
     "base_uri": "https://localhost:8080/",
     "height": 645
    },
    "executionInfo": {
     "elapsed": 4,
     "status": "ok",
     "timestamp": 1691771413183,
     "user": {
      "displayName": "SILVIA GIULIA GALFRE'",
      "userId": "02893296622354545296"
     },
     "user_tz": -120
    },
    "id": "Mo_6OiCM8WUu",
    "outputId": "45c0c726-4e9d-44ac-9cd0-b2e7fcfbcfc4",
    "tags": []
   },
   "outputs": [
    {
     "name": "stderr",
     "output_type": "stream",
     "text": [
      "👉 Detailed model information can be found at `https://www.celltypist.org/models`\n"
     ]
    },
    {
     "data": {
      "text/html": [
       "<div>\n",
       "<style scoped>\n",
       "    .dataframe tbody tr th:only-of-type {\n",
       "        vertical-align: middle;\n",
       "    }\n",
       "\n",
       "    .dataframe tbody tr th {\n",
       "        vertical-align: top;\n",
       "    }\n",
       "\n",
       "    .dataframe thead th {\n",
       "        text-align: right;\n",
       "    }\n",
       "</style>\n",
       "<table border=\"1\" class=\"dataframe\">\n",
       "  <thead>\n",
       "    <tr style=\"text-align: right;\">\n",
       "      <th></th>\n",
       "      <th>model</th>\n",
       "      <th>description</th>\n",
       "    </tr>\n",
       "  </thead>\n",
       "  <tbody>\n",
       "    <tr>\n",
       "      <th>0</th>\n",
       "      <td>Immune_All_Low.pkl</td>\n",
       "      <td>immune sub-populations combined from 20 tissue...</td>\n",
       "    </tr>\n",
       "    <tr>\n",
       "      <th>1</th>\n",
       "      <td>Immune_All_High.pkl</td>\n",
       "      <td>immune populations combined from 20 tissues of...</td>\n",
       "    </tr>\n",
       "    <tr>\n",
       "      <th>2</th>\n",
       "      <td>Adult_Mouse_Gut.pkl</td>\n",
       "      <td>cell types in the adult mouse gut combined fro...</td>\n",
       "    </tr>\n",
       "    <tr>\n",
       "      <th>3</th>\n",
       "      <td>Autopsy_COVID19_Lung.pkl</td>\n",
       "      <td>cell types from the lungs of 16 SARS-CoV-2 inf...</td>\n",
       "    </tr>\n",
       "    <tr>\n",
       "      <th>4</th>\n",
       "      <td>COVID19_HumanChallenge_Blood.pkl</td>\n",
       "      <td>detailed blood cell states from 16 individuals...</td>\n",
       "    </tr>\n",
       "    <tr>\n",
       "      <th>5</th>\n",
       "      <td>COVID19_Immune_Landscape.pkl</td>\n",
       "      <td>immune subtypes from lung and blood of COVID-1...</td>\n",
       "    </tr>\n",
       "    <tr>\n",
       "      <th>6</th>\n",
       "      <td>Cells_Fetal_Lung.pkl</td>\n",
       "      <td>cell types from human embryonic and fetal lungs</td>\n",
       "    </tr>\n",
       "    <tr>\n",
       "      <th>7</th>\n",
       "      <td>Cells_Intestinal_Tract.pkl</td>\n",
       "      <td>intestinal cells from fetal, pediatric (health...</td>\n",
       "    </tr>\n",
       "    <tr>\n",
       "      <th>8</th>\n",
       "      <td>Cells_Lung_Airway.pkl</td>\n",
       "      <td>cell populations from scRNA-seq of five locati...</td>\n",
       "    </tr>\n",
       "    <tr>\n",
       "      <th>9</th>\n",
       "      <td>Developing_Human_Brain.pkl</td>\n",
       "      <td>cell types from the first-trimester developing...</td>\n",
       "    </tr>\n",
       "    <tr>\n",
       "      <th>10</th>\n",
       "      <td>Developing_Human_Thymus.pkl</td>\n",
       "      <td>cell populations in embryonic, fetal, pediatri...</td>\n",
       "    </tr>\n",
       "    <tr>\n",
       "      <th>11</th>\n",
       "      <td>Developing_Mouse_Brain.pkl</td>\n",
       "      <td>cell types from the embryonic mouse brain betw...</td>\n",
       "    </tr>\n",
       "    <tr>\n",
       "      <th>12</th>\n",
       "      <td>Healthy_COVID19_PBMC.pkl</td>\n",
       "      <td>peripheral blood mononuclear cell types from h...</td>\n",
       "    </tr>\n",
       "    <tr>\n",
       "      <th>13</th>\n",
       "      <td>Human_IPF_Lung.pkl</td>\n",
       "      <td>cell types from idiopathic pulmonary fibrosis,...</td>\n",
       "    </tr>\n",
       "    <tr>\n",
       "      <th>14</th>\n",
       "      <td>Human_Lung_Atlas.pkl</td>\n",
       "      <td>integrated Human Lung Cell Atlas (HLCA) combin...</td>\n",
       "    </tr>\n",
       "    <tr>\n",
       "      <th>15</th>\n",
       "      <td>Human_PF_Lung.pkl</td>\n",
       "      <td>cell types from different forms of pulmonary f...</td>\n",
       "    </tr>\n",
       "    <tr>\n",
       "      <th>16</th>\n",
       "      <td>Lethal_COVID19_Lung.pkl</td>\n",
       "      <td>cell types from the lungs of individuals who d...</td>\n",
       "    </tr>\n",
       "    <tr>\n",
       "      <th>17</th>\n",
       "      <td>Nuclei_Lung_Airway.pkl</td>\n",
       "      <td>cell populations from snRNA-seq of five locati...</td>\n",
       "    </tr>\n",
       "    <tr>\n",
       "      <th>18</th>\n",
       "      <td>Pan_Fetal_Human.pkl</td>\n",
       "      <td>stromal and immune populations from the human ...</td>\n",
       "    </tr>\n",
       "  </tbody>\n",
       "</table>\n",
       "</div>"
      ],
      "text/plain": [
       "                               model  \\\n",
       "0                 Immune_All_Low.pkl   \n",
       "1                Immune_All_High.pkl   \n",
       "2                Adult_Mouse_Gut.pkl   \n",
       "3           Autopsy_COVID19_Lung.pkl   \n",
       "4   COVID19_HumanChallenge_Blood.pkl   \n",
       "5       COVID19_Immune_Landscape.pkl   \n",
       "6               Cells_Fetal_Lung.pkl   \n",
       "7         Cells_Intestinal_Tract.pkl   \n",
       "8              Cells_Lung_Airway.pkl   \n",
       "9         Developing_Human_Brain.pkl   \n",
       "10       Developing_Human_Thymus.pkl   \n",
       "11        Developing_Mouse_Brain.pkl   \n",
       "12          Healthy_COVID19_PBMC.pkl   \n",
       "13                Human_IPF_Lung.pkl   \n",
       "14              Human_Lung_Atlas.pkl   \n",
       "15                 Human_PF_Lung.pkl   \n",
       "16           Lethal_COVID19_Lung.pkl   \n",
       "17            Nuclei_Lung_Airway.pkl   \n",
       "18               Pan_Fetal_Human.pkl   \n",
       "\n",
       "                                          description  \n",
       "0   immune sub-populations combined from 20 tissue...  \n",
       "1   immune populations combined from 20 tissues of...  \n",
       "2   cell types in the adult mouse gut combined fro...  \n",
       "3   cell types from the lungs of 16 SARS-CoV-2 inf...  \n",
       "4   detailed blood cell states from 16 individuals...  \n",
       "5   immune subtypes from lung and blood of COVID-1...  \n",
       "6     cell types from human embryonic and fetal lungs  \n",
       "7   intestinal cells from fetal, pediatric (health...  \n",
       "8   cell populations from scRNA-seq of five locati...  \n",
       "9   cell types from the first-trimester developing...  \n",
       "10  cell populations in embryonic, fetal, pediatri...  \n",
       "11  cell types from the embryonic mouse brain betw...  \n",
       "12  peripheral blood mononuclear cell types from h...  \n",
       "13  cell types from idiopathic pulmonary fibrosis,...  \n",
       "14  integrated Human Lung Cell Atlas (HLCA) combin...  \n",
       "15  cell types from different forms of pulmonary f...  \n",
       "16  cell types from the lungs of individuals who d...  \n",
       "17  cell populations from snRNA-seq of five locati...  \n",
       "18  stromal and immune populations from the human ...  "
      ]
     },
     "execution_count": 7,
     "metadata": {},
     "output_type": "execute_result"
    }
   ],
   "source": [
    "models.models_description()"
   ]
  },
  {
   "cell_type": "markdown",
   "id": "Ou5gKk4GtYgg",
   "metadata": {
    "id": "Ou5gKk4GtYgg"
   },
   "source": [
    "## CD14 dataset"
   ]
  },
  {
   "cell_type": "code",
   "execution_count": 5,
   "id": "o9UhfjiU24LG",
   "metadata": {
    "id": "o9UhfjiU24LG"
   },
   "outputs": [],
   "source": [
    "input = '../Data/CD14Cleaned/CD14_Monocytes_cleaned.csv'"
   ]
  },
  {
   "cell_type": "markdown",
   "id": "xrFGbs0u8WUu",
   "metadata": {
    "id": "xrFGbs0u8WUu"
   },
   "source": [
    "Get an overview of the models and what they represent."
   ]
  },
  {
   "cell_type": "code",
   "execution_count": 6,
   "id": "se3q4nyNKXR6",
   "metadata": {
    "id": "se3q4nyNKXR6"
   },
   "outputs": [
    {
     "name": "stderr",
     "output_type": "stream",
     "text": [
      "📁 Input file is '../Data/CD14Cleaned/CD14_Monocytes_cleaned.csv'\n",
      "⏳ Loading data\n",
      "🔬 Input data has 2438 cells and 32738 genes\n",
      "🔗 Matching reference genes in the model\n",
      "🧬 5278 features used for prediction\n",
      "⚖️ Scaling input data\n",
      "🖋️ Predicting labels\n",
      "✅ Prediction done!\n",
      "👀 Can not detect a neighborhood graph, will construct one before the over-clustering\n",
      "/home/seriph/.local/lib/python3.8/site-packages/umap/distances.py:1063: NumbaDeprecationWarning: \u001b[1mThe 'nopython' keyword argument was not supplied to the 'numba.jit' decorator. The implicit default value for this argument is currently False, but it will be changed to True in Numba 0.59.0. See https://numba.readthedocs.io/en/stable/reference/deprecation.html#deprecation-of-object-mode-fall-back-behaviour-when-using-jit for details.\u001b[0m\n",
      "  @numba.jit()\n",
      "/home/seriph/.local/lib/python3.8/site-packages/umap/distances.py:1071: NumbaDeprecationWarning: \u001b[1mThe 'nopython' keyword argument was not supplied to the 'numba.jit' decorator. The implicit default value for this argument is currently False, but it will be changed to True in Numba 0.59.0. See https://numba.readthedocs.io/en/stable/reference/deprecation.html#deprecation-of-object-mode-fall-back-behaviour-when-using-jit for details.\u001b[0m\n",
      "  @numba.jit()\n",
      "/home/seriph/.local/lib/python3.8/site-packages/umap/distances.py:1086: NumbaDeprecationWarning: \u001b[1mThe 'nopython' keyword argument was not supplied to the 'numba.jit' decorator. The implicit default value for this argument is currently False, but it will be changed to True in Numba 0.59.0. See https://numba.readthedocs.io/en/stable/reference/deprecation.html#deprecation-of-object-mode-fall-back-behaviour-when-using-jit for details.\u001b[0m\n",
      "  @numba.jit()\n",
      "/home/seriph/.local/lib/python3.8/site-packages/umap/umap_.py:660: NumbaDeprecationWarning: \u001b[1mThe 'nopython' keyword argument was not supplied to the 'numba.jit' decorator. The implicit default value for this argument is currently False, but it will be changed to True in Numba 0.59.0. See https://numba.readthedocs.io/en/stable/reference/deprecation.html#deprecation-of-object-mode-fall-back-behaviour-when-using-jit for details.\u001b[0m\n",
      "  @numba.jit()\n",
      "2024-05-10 18:56:48.324783: I tensorflow/core/platform/cpu_feature_guard.cc:182] This TensorFlow binary is optimized to use available CPU instructions in performance-critical operations.\n",
      "To enable the following instructions: AVX2 FMA, in other operations, rebuild TensorFlow with the appropriate compiler flags.\n",
      "2024-05-10 18:56:49.595104: W tensorflow/compiler/tf2tensorrt/utils/py_utils.cc:38] TF-TRT Warning: Could not find TensorRT\n",
      "⛓️ Over-clustering input data with resolution set to 5\n",
      "🗳️ Majority voting the predictions\n",
      "✅ Majority voting done!\n"
     ]
    }
   ],
   "source": [
    "predictions = celltypist.annotate(input, model = 'Immune_All_Low.pkl', transpose_input = True, majority_voting = True,mode = 'best match')\n",
    "predictions.to_table(folder = '../Data/CD14Cleaned/', prefix = \"CD14Cleaned_Immune_All_Low_\")"
   ]
  },
  {
   "cell_type": "code",
   "execution_count": 7,
   "id": "47a78e92-e8da-4d46-b0dd-31bddeee91a8",
   "metadata": {},
   "outputs": [
    {
     "name": "stderr",
     "output_type": "stream",
     "text": [
      "📁 Input file is '../Data/CD14Cleaned/CD14_Monocytes_cleaned.csv'\n",
      "⏳ Loading data\n",
      "🔬 Input data has 2438 cells and 32738 genes\n",
      "🔗 Matching reference genes in the model\n",
      "🧬 5278 features used for prediction\n",
      "⚖️ Scaling input data\n",
      "🖋️ Predicting labels\n",
      "✅ Prediction done!\n",
      "👀 Can not detect a neighborhood graph, will construct one before the over-clustering\n",
      "⛓️ Over-clustering input data with resolution set to 5\n",
      "🗳️ Majority voting the predictions\n",
      "✅ Majority voting done!\n"
     ]
    }
   ],
   "source": [
    "predictions = celltypist.annotate(input, model = 'Immune_All_Low.pkl', transpose_input = True, majority_voting = True,mode = 'prob match',p_thres = 0.3)\n",
    "predictions.to_table(folder = '../Data/CD14Cleaned/', prefix = \"CD14Cleaned_Immune_All_Low_probMatch03_\")"
   ]
  },
  {
   "cell_type": "markdown",
   "id": "93ee7a22-22fe-4462-880d-e6157071fc34",
   "metadata": {},
   "source": [
    "## CD14 not cleaned - original dataset"
   ]
  },
  {
   "cell_type": "code",
   "execution_count": 27,
   "id": "390954d6-e0f7-4602-8a72-8d1712ab4bdb",
   "metadata": {},
   "outputs": [],
   "source": [
    "input = '../Data/CD14Cleaned/CD14_raw_NOT_cleaned.csv'"
   ]
  },
  {
   "cell_type": "code",
   "execution_count": 28,
   "id": "e5c876d3-f70b-4cfd-8f90-98f725161107",
   "metadata": {},
   "outputs": [
    {
     "name": "stderr",
     "output_type": "stream",
     "text": [
      "📁 Input file is '../Data/CD14Cleaned/CD14_raw_NOT_cleaned.csv'\n",
      "⏳ Loading data\n",
      "🔬 Input data has 2612 cells and 32738 genes\n",
      "🔗 Matching reference genes in the model\n",
      "🧬 5278 features used for prediction\n",
      "⚖️ Scaling input data\n",
      "🖋️ Predicting labels\n",
      "✅ Prediction done!\n",
      "👀 Can not detect a neighborhood graph, will construct one before the over-clustering\n",
      "⛓️ Over-clustering input data with resolution set to 5\n",
      "🗳️ Majority voting the predictions\n",
      "✅ Majority voting done!\n"
     ]
    }
   ],
   "source": [
    "predictions = celltypist.annotate(input, model = 'Immune_All_Low.pkl', transpose_input = True, majority_voting = True,mode = 'best match')\n",
    "predictions.to_table(folder = '../Data/CD14Cleaned/', prefix = \"CD14_Immune_All_Low_\")"
   ]
  },
  {
   "cell_type": "markdown",
   "id": "84055c13-2c50-4174-b530-6591d5a46d17",
   "metadata": {},
   "source": [
    "## Mouse Brain Le Manno - Loom file E13.5"
   ]
  },
  {
   "cell_type": "code",
   "execution_count": 5,
   "id": "0bc8ecf5-9455-4a35-8005-8781ad6cdd09",
   "metadata": {},
   "outputs": [],
   "source": [
    "input = '../Data/MouseCortexFromLoom/e13.5_ForebrainDorsal_cleaned.csv'"
   ]
  },
  {
   "cell_type": "code",
   "execution_count": 6,
   "id": "824444ec-e59a-4595-84ed-8cb5552dd042",
   "metadata": {},
   "outputs": [
    {
     "name": "stderr",
     "output_type": "stream",
     "text": [
      "📁 Input file is '../Data/MouseCortexFromLoom/e13.5_ForebrainDorsal_cleaned.csv'\n",
      "⏳ Loading data\n",
      "🔬 Input data has 4981 cells and 14282 genes\n",
      "🔗 Matching reference genes in the model\n",
      "🧬 5981 features used for prediction\n",
      "⚖️ Scaling input data\n",
      "🖋️ Predicting labels\n",
      "✅ Prediction done!\n",
      "👀 Can not detect a neighborhood graph, will construct one before the over-clustering\n",
      "/home/seriph/.local/lib/python3.8/site-packages/umap/distances.py:1063: NumbaDeprecationWarning: \u001b[1mThe 'nopython' keyword argument was not supplied to the 'numba.jit' decorator. The implicit default value for this argument is currently False, but it will be changed to True in Numba 0.59.0. See https://numba.readthedocs.io/en/stable/reference/deprecation.html#deprecation-of-object-mode-fall-back-behaviour-when-using-jit for details.\u001b[0m\n",
      "  @numba.jit()\n",
      "/home/seriph/.local/lib/python3.8/site-packages/umap/distances.py:1071: NumbaDeprecationWarning: \u001b[1mThe 'nopython' keyword argument was not supplied to the 'numba.jit' decorator. The implicit default value for this argument is currently False, but it will be changed to True in Numba 0.59.0. See https://numba.readthedocs.io/en/stable/reference/deprecation.html#deprecation-of-object-mode-fall-back-behaviour-when-using-jit for details.\u001b[0m\n",
      "  @numba.jit()\n",
      "/home/seriph/.local/lib/python3.8/site-packages/umap/distances.py:1086: NumbaDeprecationWarning: \u001b[1mThe 'nopython' keyword argument was not supplied to the 'numba.jit' decorator. The implicit default value for this argument is currently False, but it will be changed to True in Numba 0.59.0. See https://numba.readthedocs.io/en/stable/reference/deprecation.html#deprecation-of-object-mode-fall-back-behaviour-when-using-jit for details.\u001b[0m\n",
      "  @numba.jit()\n",
      "/home/seriph/.local/lib/python3.8/site-packages/tqdm/auto.py:21: TqdmWarning: IProgress not found. Please update jupyter and ipywidgets. See https://ipywidgets.readthedocs.io/en/stable/user_install.html\n",
      "  from .autonotebook import tqdm as notebook_tqdm\n",
      "/home/seriph/.local/lib/python3.8/site-packages/umap/umap_.py:660: NumbaDeprecationWarning: \u001b[1mThe 'nopython' keyword argument was not supplied to the 'numba.jit' decorator. The implicit default value for this argument is currently False, but it will be changed to True in Numba 0.59.0. See https://numba.readthedocs.io/en/stable/reference/deprecation.html#deprecation-of-object-mode-fall-back-behaviour-when-using-jit for details.\u001b[0m\n",
      "  @numba.jit()\n",
      "⛓️ Over-clustering input data with resolution set to 5\n",
      "🗳️ Majority voting the predictions\n",
      "✅ Majority voting done!\n"
     ]
    }
   ],
   "source": [
    "predictions = celltypist.annotate(input, model = 'Developing_Mouse_Brain.pkl', transpose_input = True, majority_voting = True,mode = 'best match')\n",
    "predictions.to_table(folder = '../Data/MouseCortexFromLoom/', prefix = \"E135_Devel_Mouse_Brain_\")"
   ]
  },
  {
   "cell_type": "markdown",
   "id": "70c6ca29-4916-43dd-9da6-0cff1bf7fc7f",
   "metadata": {},
   "source": [
    "## Mouse Brain Le Manno - Loom file E15.0"
   ]
  },
  {
   "cell_type": "code",
   "execution_count": 6,
   "id": "dbef2061-b761-4966-9541-287ce1fa9687",
   "metadata": {},
   "outputs": [],
   "source": [
    "input = '../Data/MouseCortexFromLoom/e15.0_ForebrainDorsal_cleaned.csv'"
   ]
  },
  {
   "cell_type": "code",
   "execution_count": 7,
   "id": "d334b03c-f23c-4c78-b014-c366553ea15f",
   "metadata": {},
   "outputs": [
    {
     "name": "stderr",
     "output_type": "stream",
     "text": [
      "📁 Input file is '../Data/MouseCortexFromLoom/e15.0_ForebrainDorsal_cleaned.csv'\n",
      "⏳ Loading data\n",
      "🔬 Input data has 8562 cells and 14120 genes\n",
      "🔗 Matching reference genes in the model\n",
      "🧬 5902 features used for prediction\n",
      "⚖️ Scaling input data\n",
      "🖋️ Predicting labels\n",
      "✅ Prediction done!\n",
      "👀 Can not detect a neighborhood graph, will construct one before the over-clustering\n",
      "/home/seriph/.local/lib/python3.8/site-packages/umap/distances.py:1063: NumbaDeprecationWarning: \u001b[1mThe 'nopython' keyword argument was not supplied to the 'numba.jit' decorator. The implicit default value for this argument is currently False, but it will be changed to True in Numba 0.59.0. See https://numba.readthedocs.io/en/stable/reference/deprecation.html#deprecation-of-object-mode-fall-back-behaviour-when-using-jit for details.\u001b[0m\n",
      "  @numba.jit()\n",
      "/home/seriph/.local/lib/python3.8/site-packages/umap/distances.py:1071: NumbaDeprecationWarning: \u001b[1mThe 'nopython' keyword argument was not supplied to the 'numba.jit' decorator. The implicit default value for this argument is currently False, but it will be changed to True in Numba 0.59.0. See https://numba.readthedocs.io/en/stable/reference/deprecation.html#deprecation-of-object-mode-fall-back-behaviour-when-using-jit for details.\u001b[0m\n",
      "  @numba.jit()\n",
      "/home/seriph/.local/lib/python3.8/site-packages/umap/distances.py:1086: NumbaDeprecationWarning: \u001b[1mThe 'nopython' keyword argument was not supplied to the 'numba.jit' decorator. The implicit default value for this argument is currently False, but it will be changed to True in Numba 0.59.0. See https://numba.readthedocs.io/en/stable/reference/deprecation.html#deprecation-of-object-mode-fall-back-behaviour-when-using-jit for details.\u001b[0m\n",
      "  @numba.jit()\n",
      "/home/seriph/.local/lib/python3.8/site-packages/tqdm/auto.py:21: TqdmWarning: IProgress not found. Please update jupyter and ipywidgets. See https://ipywidgets.readthedocs.io/en/stable/user_install.html\n",
      "  from .autonotebook import tqdm as notebook_tqdm\n",
      "/home/seriph/.local/lib/python3.8/site-packages/umap/umap_.py:660: NumbaDeprecationWarning: \u001b[1mThe 'nopython' keyword argument was not supplied to the 'numba.jit' decorator. The implicit default value for this argument is currently False, but it will be changed to True in Numba 0.59.0. See https://numba.readthedocs.io/en/stable/reference/deprecation.html#deprecation-of-object-mode-fall-back-behaviour-when-using-jit for details.\u001b[0m\n",
      "  @numba.jit()\n",
      "⛓️ Over-clustering input data with resolution set to 10\n",
      "🗳️ Majority voting the predictions\n",
      "✅ Majority voting done!\n"
     ]
    }
   ],
   "source": [
    "predictions = celltypist.annotate(input, model = 'Developing_Mouse_Brain.pkl', transpose_input = True, majority_voting = True,mode = 'best match')\n",
    "predictions.to_table(folder = '../Data/MouseCortexFromLoom/', prefix = \"E150_Devel_Mouse_Brain_\")"
   ]
  },
  {
   "cell_type": "markdown",
   "id": "3ed3d9c6-c96b-44d8-b87d-b51f5345f2f5",
   "metadata": {},
   "source": [
    "## Mouse Brain Le Manno - Loom file E17.5"
   ]
  },
  {
   "cell_type": "code",
   "execution_count": 8,
   "id": "32829a94-4469-4d42-b04e-786deff7228a",
   "metadata": {},
   "outputs": [],
   "source": [
    "input = '../Data/MouseCortexFromLoom/e17.5_ForebrainDorsal_cleaned.csv'"
   ]
  },
  {
   "cell_type": "code",
   "execution_count": 9,
   "id": "59906347-d541-4fdb-afeb-8163e0328bd3",
   "metadata": {},
   "outputs": [
    {
     "name": "stderr",
     "output_type": "stream",
     "text": [
      "📁 Input file is '../Data/MouseCortexFromLoom/e17.5_ForebrainDorsal_cleaned.csv'\n",
      "⏳ Loading data\n",
      "🔬 Input data has 2467 cells and 14227 genes\n",
      "🔗 Matching reference genes in the model\n",
      "🧬 5949 features used for prediction\n",
      "⚖️ Scaling input data\n",
      "🖋️ Predicting labels\n",
      "✅ Prediction done!\n",
      "👀 Can not detect a neighborhood graph, will construct one before the over-clustering\n",
      "⛓️ Over-clustering input data with resolution set to 5\n",
      "🗳️ Majority voting the predictions\n",
      "✅ Majority voting done!\n"
     ]
    }
   ],
   "source": [
    "predictions = celltypist.annotate(input, model = 'Developing_Mouse_Brain.pkl', transpose_input = True, majority_voting = True,mode = 'best match')\n",
    "predictions.to_table(folder = '../Data/MouseCortexFromLoom/', prefix = \"E175_Devel_Mouse_Brain_\")"
   ]
  },
  {
   "cell_type": "markdown",
   "id": "7be0083b-f957-429e-b69f-9348256c4864",
   "metadata": {},
   "source": [
    "## Cortical cells DGE E13.5 (mouse)"
   ]
  },
  {
   "cell_type": "code",
   "execution_count": 10,
   "id": "3973b20d-c400-43c5-b7ed-6f294912b16e",
   "metadata": {},
   "outputs": [],
   "source": [
    "input = '../Data/Yuzwa_MouseCortex/CorticalCells_GSM2861511_E135_cleaned.csv'"
   ]
  },
  {
   "cell_type": "code",
   "execution_count": 11,
   "id": "d5bc5851-5c9c-485a-96a1-63a8969e7259",
   "metadata": {},
   "outputs": [
    {
     "name": "stderr",
     "output_type": "stream",
     "text": [
      "📁 Input file is '../Data/Yuzwa_MouseCortex/CorticalCells_GSM2861511_E135_cleaned.csv'\n",
      "⏳ Loading data\n",
      "🔬 Input data has 1112 cells and 17082 genes\n",
      "🔗 Matching reference genes in the model\n",
      "🧬 6136 features used for prediction\n",
      "⚖️ Scaling input data\n",
      "🖋️ Predicting labels\n",
      "✅ Prediction done!\n",
      "👀 Can not detect a neighborhood graph, will construct one before the over-clustering\n",
      "⛓️ Over-clustering input data with resolution set to 5\n",
      "🗳️ Majority voting the predictions\n",
      "✅ Majority voting done!\n"
     ]
    }
   ],
   "source": [
    "predictions = celltypist.annotate(input, model = 'Developing_Mouse_Brain.pkl', transpose_input = True, majority_voting = True,mode = 'best match')\n",
    "predictions.to_table(folder = '../Data/Yuzwa_MouseCortex/', prefix = \"E13_5_Devel_Mouse_Brain_\")"
   ]
  },
  {
   "cell_type": "markdown",
   "id": "7aca0b5b-7efd-4faa-a6ab-feac43d29da4",
   "metadata": {},
   "source": [
    "## Cortical cells DGE E17.5 (mouse)"
   ]
  },
  {
   "cell_type": "code",
   "execution_count": 12,
   "id": "d5d1212a-7c5d-4193-ac3a-a2389135e24a",
   "metadata": {},
   "outputs": [],
   "source": [
    "input = '../Data/Yuzwa_MouseCortex/CorticalCells_GSM2861514_E175_cleaned.csv'"
   ]
  },
  {
   "cell_type": "code",
   "execution_count": 13,
   "id": "a750a2fb-0c6a-4047-b7d5-494bb71ec0f6",
   "metadata": {},
   "outputs": [
    {
     "name": "stderr",
     "output_type": "stream",
     "text": [
      "📁 Input file is '../Data/Yuzwa_MouseCortex/CorticalCells_GSM2861514_E175_cleaned.csv'\n",
      "⏳ Loading data\n",
      "🔬 Input data has 874 cells and 17085 genes\n",
      "🔗 Matching reference genes in the model\n",
      "🧬 6158 features used for prediction\n",
      "⚖️ Scaling input data\n",
      "🖋️ Predicting labels\n",
      "✅ Prediction done!\n",
      "👀 Can not detect a neighborhood graph, will construct one before the over-clustering\n",
      "⛓️ Over-clustering input data with resolution set to 5\n",
      "🗳️ Majority voting the predictions\n",
      "✅ Majority voting done!\n"
     ]
    }
   ],
   "source": [
    "predictions = celltypist.annotate(input, model = 'Developing_Mouse_Brain.pkl', transpose_input = True, majority_voting = True,mode = 'best match')\n",
    "predictions.to_table(folder = '../Data/Yuzwa_MouseCortex/', prefix = \"E17_5_Devel_Mouse_Brain_\")"
   ]
  },
  {
   "cell_type": "markdown",
   "id": "ee577474-c2e7-4a90-95c3-7cb6e851d23d",
   "metadata": {},
   "source": []
  },
  {
   "cell_type": "markdown",
   "id": "0ad821dd-06ff-4757-b25f-75f29a4bec65",
   "metadata": {},
   "source": [
    "----------------------------------------------------------"
   ]
  }
 ],
 "metadata": {
  "colab": {
   "provenance": [
    {
     "file_id": "14d4JGWC2hFIlZ4hadYx4X_YrAA5MnCeC",
     "timestamp": 1691742220054
    },
    {
     "file_id": "https://github.com/Teichlab/celltypist/blob/main/docs/notebook/celltypist_tutorial.ipynb",
     "timestamp": 1691654066434
    }
   ]
  },
  "kernelspec": {
   "display_name": "Python 3 (ipykernel)",
   "language": "python",
   "name": "python3"
  },
  "language_info": {
   "codemirror_mode": {
    "name": "ipython",
    "version": 3
   },
   "file_extension": ".py",
   "mimetype": "text/x-python",
   "name": "python",
   "nbconvert_exporter": "python",
   "pygments_lexer": "ipython3",
   "version": "3.8.10"
  },
  "widgets": {
   "application/vnd.jupyter.widget-state+json": {
    "0222f99cf2bf4473bd4f707466d615e7": {
     "model_module": "@jupyter-widgets/controls",
     "model_module_version": "1.5.0",
     "model_name": "HBoxModel",
     "state": {
      "_dom_classes": [],
      "_model_module": "@jupyter-widgets/controls",
      "_model_module_version": "1.5.0",
      "_model_name": "HBoxModel",
      "_view_count": null,
      "_view_module": "@jupyter-widgets/controls",
      "_view_module_version": "1.5.0",
      "_view_name": "HBoxView",
      "box_style": "",
      "children": [
       "IPY_MODEL_f369cc1e7b694ba5b4710c130f93469c",
       "IPY_MODEL_0e6fcb2376c245a5a5c35e0cb54b51b8",
       "IPY_MODEL_a8e7c27e4f124cc5b960278c008c6d51"
      ],
      "layout": "IPY_MODEL_2455705626d547e194fc788c04897e9c"
     }
    },
    "0a86c3f6d71d4342876f62ad147b6c28": {
     "model_module": "@jupyter-widgets/controls",
     "model_module_version": "1.5.0",
     "model_name": "DescriptionStyleModel",
     "state": {
      "_model_module": "@jupyter-widgets/controls",
      "_model_module_version": "1.5.0",
      "_model_name": "DescriptionStyleModel",
      "_view_count": null,
      "_view_module": "@jupyter-widgets/base",
      "_view_module_version": "1.2.0",
      "_view_name": "StyleView",
      "description_width": ""
     }
    },
    "0e6fcb2376c245a5a5c35e0cb54b51b8": {
     "model_module": "@jupyter-widgets/controls",
     "model_module_version": "1.5.0",
     "model_name": "FloatProgressModel",
     "state": {
      "_dom_classes": [],
      "_model_module": "@jupyter-widgets/controls",
      "_model_module_version": "1.5.0",
      "_model_name": "FloatProgressModel",
      "_view_count": null,
      "_view_module": "@jupyter-widgets/controls",
      "_view_module_version": "1.5.0",
      "_view_name": "ProgressView",
      "bar_style": "success",
      "description": "",
      "description_tooltip": null,
      "layout": "IPY_MODEL_b40bf253671749829bc9f300f2839c75",
      "max": 35730948,
      "min": 0,
      "orientation": "horizontal",
      "style": "IPY_MODEL_c2bb7613a21044ae8ba423f178243713",
      "value": 35730948
     }
    },
    "2455705626d547e194fc788c04897e9c": {
     "model_module": "@jupyter-widgets/base",
     "model_module_version": "1.2.0",
     "model_name": "LayoutModel",
     "state": {
      "_model_module": "@jupyter-widgets/base",
      "_model_module_version": "1.2.0",
      "_model_name": "LayoutModel",
      "_view_count": null,
      "_view_module": "@jupyter-widgets/base",
      "_view_module_version": "1.2.0",
      "_view_name": "LayoutView",
      "align_content": null,
      "align_items": null,
      "align_self": null,
      "border": null,
      "bottom": null,
      "display": null,
      "flex": null,
      "flex_flow": null,
      "grid_area": null,
      "grid_auto_columns": null,
      "grid_auto_flow": null,
      "grid_auto_rows": null,
      "grid_column": null,
      "grid_gap": null,
      "grid_row": null,
      "grid_template_areas": null,
      "grid_template_columns": null,
      "grid_template_rows": null,
      "height": null,
      "justify_content": null,
      "justify_items": null,
      "left": null,
      "margin": null,
      "max_height": null,
      "max_width": null,
      "min_height": null,
      "min_width": null,
      "object_fit": null,
      "object_position": null,
      "order": null,
      "overflow": null,
      "overflow_x": null,
      "overflow_y": null,
      "padding": null,
      "right": null,
      "top": null,
      "visibility": null,
      "width": null
     }
    },
    "4561f5f3582e41bc9970e84530c40534": {
     "model_module": "@jupyter-widgets/base",
     "model_module_version": "1.2.0",
     "model_name": "LayoutModel",
     "state": {
      "_model_module": "@jupyter-widgets/base",
      "_model_module_version": "1.2.0",
      "_model_name": "LayoutModel",
      "_view_count": null,
      "_view_module": "@jupyter-widgets/base",
      "_view_module_version": "1.2.0",
      "_view_name": "LayoutView",
      "align_content": null,
      "align_items": null,
      "align_self": null,
      "border": null,
      "bottom": null,
      "display": null,
      "flex": null,
      "flex_flow": null,
      "grid_area": null,
      "grid_auto_columns": null,
      "grid_auto_flow": null,
      "grid_auto_rows": null,
      "grid_column": null,
      "grid_gap": null,
      "grid_row": null,
      "grid_template_areas": null,
      "grid_template_columns": null,
      "grid_template_rows": null,
      "height": null,
      "justify_content": null,
      "justify_items": null,
      "left": null,
      "margin": null,
      "max_height": null,
      "max_width": null,
      "min_height": null,
      "min_width": null,
      "object_fit": null,
      "object_position": null,
      "order": null,
      "overflow": null,
      "overflow_x": null,
      "overflow_y": null,
      "padding": null,
      "right": null,
      "top": null,
      "visibility": null,
      "width": null
     }
    },
    "55e939558cae49dc872df3d5febe5b40": {
     "model_module": "@jupyter-widgets/controls",
     "model_module_version": "1.5.0",
     "model_name": "DescriptionStyleModel",
     "state": {
      "_model_module": "@jupyter-widgets/controls",
      "_model_module_version": "1.5.0",
      "_model_name": "DescriptionStyleModel",
      "_view_count": null,
      "_view_module": "@jupyter-widgets/base",
      "_view_module_version": "1.2.0",
      "_view_name": "StyleView",
      "description_width": ""
     }
    },
    "981b1a8ce25244019bb2f117e34ae034": {
     "model_module": "@jupyter-widgets/base",
     "model_module_version": "1.2.0",
     "model_name": "LayoutModel",
     "state": {
      "_model_module": "@jupyter-widgets/base",
      "_model_module_version": "1.2.0",
      "_model_name": "LayoutModel",
      "_view_count": null,
      "_view_module": "@jupyter-widgets/base",
      "_view_module_version": "1.2.0",
      "_view_name": "LayoutView",
      "align_content": null,
      "align_items": null,
      "align_self": null,
      "border": null,
      "bottom": null,
      "display": null,
      "flex": null,
      "flex_flow": null,
      "grid_area": null,
      "grid_auto_columns": null,
      "grid_auto_flow": null,
      "grid_auto_rows": null,
      "grid_column": null,
      "grid_gap": null,
      "grid_row": null,
      "grid_template_areas": null,
      "grid_template_columns": null,
      "grid_template_rows": null,
      "height": null,
      "justify_content": null,
      "justify_items": null,
      "left": null,
      "margin": null,
      "max_height": null,
      "max_width": null,
      "min_height": null,
      "min_width": null,
      "object_fit": null,
      "object_position": null,
      "order": null,
      "overflow": null,
      "overflow_x": null,
      "overflow_y": null,
      "padding": null,
      "right": null,
      "top": null,
      "visibility": null,
      "width": null
     }
    },
    "a8e7c27e4f124cc5b960278c008c6d51": {
     "model_module": "@jupyter-widgets/controls",
     "model_module_version": "1.5.0",
     "model_name": "HTMLModel",
     "state": {
      "_dom_classes": [],
      "_model_module": "@jupyter-widgets/controls",
      "_model_module_version": "1.5.0",
      "_model_name": "HTMLModel",
      "_view_count": null,
      "_view_module": "@jupyter-widgets/controls",
      "_view_module_version": "1.5.0",
      "_view_name": "HTMLView",
      "description": "",
      "description_tooltip": null,
      "layout": "IPY_MODEL_981b1a8ce25244019bb2f117e34ae034",
      "placeholder": "​",
      "style": "IPY_MODEL_0a86c3f6d71d4342876f62ad147b6c28",
      "value": " 34.1M/34.1M [00:03&lt;00:00, 14.1MB/s]"
     }
    },
    "b40bf253671749829bc9f300f2839c75": {
     "model_module": "@jupyter-widgets/base",
     "model_module_version": "1.2.0",
     "model_name": "LayoutModel",
     "state": {
      "_model_module": "@jupyter-widgets/base",
      "_model_module_version": "1.2.0",
      "_model_name": "LayoutModel",
      "_view_count": null,
      "_view_module": "@jupyter-widgets/base",
      "_view_module_version": "1.2.0",
      "_view_name": "LayoutView",
      "align_content": null,
      "align_items": null,
      "align_self": null,
      "border": null,
      "bottom": null,
      "display": null,
      "flex": null,
      "flex_flow": null,
      "grid_area": null,
      "grid_auto_columns": null,
      "grid_auto_flow": null,
      "grid_auto_rows": null,
      "grid_column": null,
      "grid_gap": null,
      "grid_row": null,
      "grid_template_areas": null,
      "grid_template_columns": null,
      "grid_template_rows": null,
      "height": null,
      "justify_content": null,
      "justify_items": null,
      "left": null,
      "margin": null,
      "max_height": null,
      "max_width": null,
      "min_height": null,
      "min_width": null,
      "object_fit": null,
      "object_position": null,
      "order": null,
      "overflow": null,
      "overflow_x": null,
      "overflow_y": null,
      "padding": null,
      "right": null,
      "top": null,
      "visibility": null,
      "width": null
     }
    },
    "c2bb7613a21044ae8ba423f178243713": {
     "model_module": "@jupyter-widgets/controls",
     "model_module_version": "1.5.0",
     "model_name": "ProgressStyleModel",
     "state": {
      "_model_module": "@jupyter-widgets/controls",
      "_model_module_version": "1.5.0",
      "_model_name": "ProgressStyleModel",
      "_view_count": null,
      "_view_module": "@jupyter-widgets/base",
      "_view_module_version": "1.2.0",
      "_view_name": "StyleView",
      "bar_color": null,
      "description_width": ""
     }
    },
    "f369cc1e7b694ba5b4710c130f93469c": {
     "model_module": "@jupyter-widgets/controls",
     "model_module_version": "1.5.0",
     "model_name": "HTMLModel",
     "state": {
      "_dom_classes": [],
      "_model_module": "@jupyter-widgets/controls",
      "_model_module_version": "1.5.0",
      "_model_name": "HTMLModel",
      "_view_count": null,
      "_view_module": "@jupyter-widgets/controls",
      "_view_module_version": "1.5.0",
      "_view_name": "HTMLView",
      "description": "",
      "description_tooltip": null,
      "layout": "IPY_MODEL_4561f5f3582e41bc9970e84530c40534",
      "placeholder": "​",
      "style": "IPY_MODEL_55e939558cae49dc872df3d5febe5b40",
      "value": "100%"
     }
    }
   }
  }
 },
 "nbformat": 4,
 "nbformat_minor": 5
}
