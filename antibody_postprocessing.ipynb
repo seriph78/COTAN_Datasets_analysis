{
 "cells": [
  {
   "cell_type": "code",
   "execution_count": 1,
   "metadata": {},
   "outputs": [],
   "source": [
    "import pandas as pd\n",
    "import json"
   ]
  },
  {
   "cell_type": "code",
   "execution_count": 2,
   "metadata": {},
   "outputs": [],
   "source": [
    "DIR = 'Data/'\n",
    "CLUSTERS_TO_DROP = {\n",
    "    'PBMC1': [],\n",
    "    'PBMC2': [1],\n",
    "    'PBMC3': [1, 8, 20],\n",
    "    'PBMC4': [8, 11, 16, 18, 23]\n",
    "}\n",
    "CLUSTERS_TO_RENAME = {\n",
    "    'PBMC1': {11:7, 13:9},\n",
    "    'PBMC2': {9:8},\n",
    "    'PBMC3': {11:7, 21:7, 16:13, 17:13, 18:13, 19:13, 15:3},\n",
    "    'PBMC4': {7:2, 6:3, 20:3, 25:3, 15:9, 13:10, 17:10, 21:10, 19:5}\n",
    "}"
   ]
  },
  {
   "cell_type": "code",
   "execution_count": 3,
   "metadata": {},
   "outputs": [],
   "source": [
    "for dataset_name, clusters in CLUSTERS_TO_DROP.items():\n",
    "    file_name = DIR + dataset_name + '/' + 'antibody_annotation/antibody_labels.csv'\n",
    "    labels_df = pd.read_csv(file_name)\n",
    "    for cluster in clusters:\n",
    "        labels_df = labels_df[labels_df['cluster.ids'] != cluster]\n",
    "    labels_df.replace({'cluster.ids': CLUSTERS_TO_RENAME[dataset_name]}, inplace=True)\n",
    "    labels_df.to_csv(DIR + dataset_name + '/' + 'antibody_annotation/antibody_labels_postproc.csv', index=False)\n",
    "    with open(f'./data/{dataset_name}/antibody_annotation/nclusters_postproc.json', 'w') as fp:\n",
    "        json.dump({'nclusters': labels_df['cluster.ids'].nunique()}, fp)"
   ]
  }
 ],
 "metadata": {
  "kernelspec": {
   "display_name": "Python 3 (ipykernel)",
   "language": "python",
   "name": "python3"
  },
  "language_info": {
   "codemirror_mode": {
    "name": "ipython",
    "version": 3
   },
   "file_extension": ".py",
   "mimetype": "text/x-python",
   "name": "python",
   "nbconvert_exporter": "python",
   "pygments_lexer": "ipython3",
   "version": "3.8.10"
  }
 },
 "nbformat": 4,
 "nbformat_minor": 4
}
